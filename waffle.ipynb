{
 "cells": [
  {
   "cell_type": "code",
   "execution_count": 1,
   "metadata": {
    "collapsed": false
   },
   "outputs": [
    {
     "name": "stderr",
     "output_type": "stream",
     "text": [
      "/usr/local/lib/python3.5/site-packages/matplotlib/__init__.py:872: UserWarning: axes.color_cycle is deprecated and replaced with axes.prop_cycle; please use the latter.\n",
      "  warnings.warn(self.msg_depr % (key, alt_key))\n"
     ]
    }
   ],
   "source": [
    "import pandas as pd\n",
    "import numpy as np"
   ]
  },
  {
   "cell_type": "code",
   "execution_count": 4,
   "metadata": {
    "collapsed": false
   },
   "outputs": [],
   "source": [
    "idt = pd.read_json('https://raw.githubusercontent.com/Gapminder/waffle-server-importers-exporters/world-legacy-with-data/data/out/gw/meta/quantities.json?token=AAVecNfSWC2bIGcLqoUZKjOVZIPQpm6Kks5W66t2wA%3D%3D')"
   ]
  },
  {
   "cell_type": "code",
   "execution_count": 10,
   "metadata": {
    "collapsed": true
   },
   "outputs": [],
   "source": [
    "import re\n",
    "\n",
    "\n",
    "def to_concept_id(s, sub='[/ -\\.\\*\";]+', sep='_'):\n",
    "    '''convert a string to lowercase alphanumeric + underscore id for concepts'''\n",
    "    s1 = re.sub(sub, sep, s.strip())\n",
    "    s1 = re.sub(r'\\[.*\\]', '', s1)\n",
    "    s1 = s1.replace('\\n', '')\n",
    "\n",
    "    if s1[-1] == sep:  # remove the last underscore\n",
    "        s1 = s1[:-1]\n",
    "\n",
    "    return s1.lower()\n"
   ]
  },
  {
   "cell_type": "code",
   "execution_count": null,
   "metadata": {
    "collapsed": true
   },
   "outputs": [],
   "source": []
  },
  {
   "cell_type": "code",
   "execution_count": null,
   "metadata": {
    "collapsed": true
   },
   "outputs": [],
   "source": []
  },
  {
   "cell_type": "code",
   "execution_count": 7,
   "metadata": {
    "collapsed": false
   },
   "outputs": [],
   "source": [
    "idt.to_csv('ddf--concepts.csv', index=False)"
   ]
  },
  {
   "cell_type": "code",
   "execution_count": 22,
   "metadata": {
    "collapsed": true
   },
   "outputs": [],
   "source": [
    "concepts = pd.read_csv('./source/graph_settings - Indicators.csv')"
   ]
  },
  {
   "cell_type": "code",
   "execution_count": 23,
   "metadata": {
    "collapsed": true
   },
   "outputs": [],
   "source": [
    "dsc = concepts.columns"
   ]
  },
  {
   "cell_type": "code",
   "execution_count": 24,
   "metadata": {
    "collapsed": true
   },
   "outputs": [],
   "source": [
    "concepts.columns = list(map(to_concept_id, concepts.columns))"
   ]
  },
  {
   "cell_type": "code",
   "execution_count": 25,
   "metadata": {
    "collapsed": true
   },
   "outputs": [],
   "source": [
    "concepts['concept_type'] = 'measure'"
   ]
  },
  {
   "cell_type": "code",
   "execution_count": 26,
   "metadata": {
    "collapsed": false
   },
   "outputs": [],
   "source": [
    "concepts = concepts.drop('download', axis=1)"
   ]
  },
  {
   "cell_type": "code",
   "execution_count": 27,
   "metadata": {
    "collapsed": false
   },
   "outputs": [],
   "source": [
    "concepts = concepts.iloc[:, [5, 0, 1,2,3,4,6,7]]"
   ]
  },
  {
   "cell_type": "code",
   "execution_count": 30,
   "metadata": {
    "collapsed": true
   },
   "outputs": [],
   "source": [
    "concepts = concepts.rename(columns={'ddf_id':'concept'})"
   ]
  },
  {
   "cell_type": "code",
   "execution_count": 31,
   "metadata": {
    "collapsed": false,
    "scrolled": true
   },
   "outputs": [
    {
     "data": {
      "text/html": [
       "<div>\n",
       "<table border=\"1\" class=\"dataframe\">\n",
       "  <thead>\n",
       "    <tr style=\"text-align: right;\">\n",
       "      <th></th>\n",
       "      <th>concept_id</th>\n",
       "      <th>name</th>\n",
       "      <th>tooltip</th>\n",
       "      <th>menu_level1</th>\n",
       "      <th>menu_level_2</th>\n",
       "      <th>indicator_url</th>\n",
       "      <th>scale</th>\n",
       "      <th>concept_type</th>\n",
       "    </tr>\n",
       "  </thead>\n",
       "  <tbody>\n",
       "    <tr>\n",
       "      <th>0</th>\n",
       "      <td>children_per_woman_total_fertility</td>\n",
       "      <td>Children per woman (total fertility)</td>\n",
       "      <td>Total fertility rate. The number of children t...</td>\n",
       "      <td>NaN</td>\n",
       "      <td>NaN</td>\n",
       "      <td>http://spreadsheets.google.com/pub?key=phAwcNA...</td>\n",
       "      <td>lin</td>\n",
       "      <td>measure</td>\n",
       "    </tr>\n",
       "    <tr>\n",
       "      <th>1</th>\n",
       "      <td>co2_emissions_tonnes_per_person</td>\n",
       "      <td>CO2 emissions (tonnes per person)</td>\n",
       "      <td>Carbon dioxide emissions from the burning of f...</td>\n",
       "      <td>NaN</td>\n",
       "      <td>NaN</td>\n",
       "      <td>http://spreadsheets.google.com/pub?key=phAwcNA...</td>\n",
       "      <td>lin</td>\n",
       "      <td>measure</td>\n",
       "    </tr>\n",
       "    <tr>\n",
       "      <th>2</th>\n",
       "      <td>income_per_person_gdppercapita_ppp_inflation_a...</td>\n",
       "      <td>Income per person (GDP/capita, PPP$ inflation-...</td>\n",
       "      <td>Gross domestic product per person adjusted for...</td>\n",
       "      <td>NaN</td>\n",
       "      <td>NaN</td>\n",
       "      <td>http://spreadsheets.google.com/pub?key=phAwcNA...</td>\n",
       "      <td>log</td>\n",
       "      <td>measure</td>\n",
       "    </tr>\n",
       "    <tr>\n",
       "      <th>3</th>\n",
       "      <td>child_mortality_0_5_year_olds_dying_per_1000_born</td>\n",
       "      <td>Child mortality (0-5 year-olds dying per 1,000...</td>\n",
       "      <td>Death of children under five years of age per ...</td>\n",
       "      <td>NaN</td>\n",
       "      <td>NaN</td>\n",
       "      <td>http://spreadsheets.google.com/pub?key=0ArfEDs...</td>\n",
       "      <td>log</td>\n",
       "      <td>measure</td>\n",
       "    </tr>\n",
       "    <tr>\n",
       "      <th>4</th>\n",
       "      <td>life_expectancy_years</td>\n",
       "      <td>Life expectancy (years)</td>\n",
       "      <td>The average number of years a newborn child wo...</td>\n",
       "      <td>NaN</td>\n",
       "      <td>NaN</td>\n",
       "      <td>http://spreadsheets.google.com/pub?key=phAwcNA...</td>\n",
       "      <td>lin</td>\n",
       "      <td>measure</td>\n",
       "    </tr>\n",
       "  </tbody>\n",
       "</table>\n",
       "</div>"
      ],
      "text/plain": [
       "                                          concept_id  \\\n",
       "0                 children_per_woman_total_fertility   \n",
       "1                    co2_emissions_tonnes_per_person   \n",
       "2  income_per_person_gdppercapita_ppp_inflation_a...   \n",
       "3  child_mortality_0_5_year_olds_dying_per_1000_born   \n",
       "4                              life_expectancy_years   \n",
       "\n",
       "                                                name  \\\n",
       "0               Children per woman (total fertility)   \n",
       "1                  CO2 emissions (tonnes per person)   \n",
       "2  Income per person (GDP/capita, PPP$ inflation-...   \n",
       "3  Child mortality (0-5 year-olds dying per 1,000...   \n",
       "4                            Life expectancy (years)   \n",
       "\n",
       "                                             tooltip menu_level1 menu_level_2  \\\n",
       "0  Total fertility rate. The number of children t...         NaN          NaN   \n",
       "1  Carbon dioxide emissions from the burning of f...         NaN          NaN   \n",
       "2  Gross domestic product per person adjusted for...         NaN          NaN   \n",
       "3  Death of children under five years of age per ...         NaN          NaN   \n",
       "4  The average number of years a newborn child wo...         NaN          NaN   \n",
       "\n",
       "                                       indicator_url scale concept_type  \n",
       "0  http://spreadsheets.google.com/pub?key=phAwcNA...   lin      measure  \n",
       "1  http://spreadsheets.google.com/pub?key=phAwcNA...   lin      measure  \n",
       "2  http://spreadsheets.google.com/pub?key=phAwcNA...   log      measure  \n",
       "3  http://spreadsheets.google.com/pub?key=0ArfEDs...   log      measure  \n",
       "4  http://spreadsheets.google.com/pub?key=phAwcNA...   lin      measure  "
      ]
     },
     "execution_count": 31,
     "metadata": {},
     "output_type": "execute_result"
    }
   ],
   "source": [
    "concepts.head()"
   ]
  },
  {
   "cell_type": "code",
   "execution_count": 34,
   "metadata": {
    "collapsed": false
   },
   "outputs": [
    {
     "data": {
      "text/plain": [
       "Index(['Name', 'Tooltip', 'Menu level1', 'Menu level 2', 'Indicator url',\n",
       "       'Download', 'Scale'],\n",
       "      dtype='object')"
      ]
     },
     "execution_count": 34,
     "metadata": {},
     "output_type": "execute_result"
    }
   ],
   "source": [
    "dsc.drop('ddf_id')"
   ]
  },
  {
   "cell_type": "code",
   "execution_count": 35,
   "metadata": {
    "collapsed": false
   },
   "outputs": [
    {
     "data": {
      "text/plain": [
       "544"
      ]
     },
     "execution_count": 35,
     "metadata": {},
     "output_type": "execute_result"
    }
   ],
   "source": [
    "len(concepts)"
   ]
  },
  {
   "cell_type": "code",
   "execution_count": 59,
   "metadata": {
    "collapsed": true
   },
   "outputs": [],
   "source": [
    "# todo: discrete concepts"
   ]
  },
  {
   "cell_type": "code",
   "execution_count": 36,
   "metadata": {
    "collapsed": true
   },
   "outputs": [],
   "source": [
    "con2 = pd.DataFrame([], columns=concepts.columns)"
   ]
  },
  {
   "cell_type": "code",
   "execution_count": 37,
   "metadata": {
    "collapsed": true
   },
   "outputs": [],
   "source": [
    "con2['name'] = dsc.drop('ddf_id')"
   ]
  },
  {
   "cell_type": "code",
   "execution_count": 39,
   "metadata": {
    "collapsed": false
   },
   "outputs": [],
   "source": [
    "con2['concept_id'] = con2['name'].apply(to_concept_id)"
   ]
  },
  {
   "cell_type": "code",
   "execution_count": 40,
   "metadata": {
    "collapsed": true
   },
   "outputs": [],
   "source": [
    "con2['concept_type'] = 'string'"
   ]
  },
  {
   "cell_type": "code",
   "execution_count": null,
   "metadata": {
    "collapsed": true
   },
   "outputs": [],
   "source": []
  },
  {
   "cell_type": "code",
   "execution_count": null,
   "metadata": {
    "collapsed": true
   },
   "outputs": [],
   "source": []
  },
  {
   "cell_type": "code",
   "execution_count": null,
   "metadata": {
    "collapsed": true
   },
   "outputs": [],
   "source": []
  },
  {
   "cell_type": "code",
   "execution_count": null,
   "metadata": {
    "collapsed": true
   },
   "outputs": [],
   "source": []
  },
  {
   "cell_type": "code",
   "execution_count": null,
   "metadata": {
    "collapsed": true
   },
   "outputs": [],
   "source": []
  },
  {
   "cell_type": "code",
   "execution_count": null,
   "metadata": {
    "collapsed": true
   },
   "outputs": [],
   "source": []
  },
  {
   "cell_type": "code",
   "execution_count": 55,
   "metadata": {
    "collapsed": true
   },
   "outputs": [],
   "source": [
    "gps = pd.read_json('../../ddf--gapminder_world/waffle-server-importers-exporters-world-legacy-with-data/data/out/gw/meta/area_categorizarion.json')"
   ]
  },
  {
   "cell_type": "code",
   "execution_count": 58,
   "metadata": {
    "collapsed": false
   },
   "outputs": [
    {
     "data": {
      "text/html": [
       "<div>\n",
       "<table border=\"1\" class=\"dataframe\">\n",
       "  <thead>\n",
       "    <tr style=\"text-align: right;\">\n",
       "      <th></th>\n",
       "      <th>a</th>\n",
       "      <th>dataCollectionUrl</th>\n",
       "      <th>groupings</th>\n",
       "      <th>id</th>\n",
       "      <th>n</th>\n",
       "      <th>providerUrl</th>\n",
       "      <th>sourceName</th>\n",
       "    </tr>\n",
       "  </thead>\n",
       "  <tbody>\n",
       "    <tr>\n",
       "      <th>0</th>\n",
       "      <td>Regions of the world</td>\n",
       "      <td>http://spreadsheets.google.com/pub?key=phT4mwj...</td>\n",
       "      <td>{'i265': ['i5', 'i13', 'i31', 'i35', 'i44', 'i...</td>\n",
       "      <td>CATID0</td>\n",
       "      <td>Geographic regions</td>\n",
       "      <td>http://spreadsheets.google.com/pub?key=phT4mwj...</td>\n",
       "      <td>http://spreadsheets.google.com/pub?key=phT4mwj...</td>\n",
       "    </tr>\n",
       "    <tr>\n",
       "      <th>1</th>\n",
       "      <td>How rich are you?</td>\n",
       "      <td>http://spreadsheets.google.com/pub?key=phT4mwj...</td>\n",
       "      <td>{'i268': ['i6', 'i9', 'i12', 'i13', 'i14', 'i1...</td>\n",
       "      <td>CATID1</td>\n",
       "      <td>Income groups</td>\n",
       "      <td>http://spreadsheets.google.com/pub?key=phT4mwj...</td>\n",
       "      <td>http://spreadsheets.google.com/pub?key=phT4mwj...</td>\n",
       "    </tr>\n",
       "    <tr>\n",
       "      <th>2</th>\n",
       "      <td>Does the country have a coast?</td>\n",
       "      <td>http://spreadsheets.google.com/pub?key=rBwKBod...</td>\n",
       "      <td>{'i270': ['i2', 'i3', 'i4', 'i5', 'i7', 'i8', ...</td>\n",
       "      <td>CATID2</td>\n",
       "      <td>Landlocked</td>\n",
       "      <td>http://spreadsheets.google.com/pub?key=rBwKBod...</td>\n",
       "      <td>http://spreadsheets.google.com/pub?key=rBwKBod...</td>\n",
       "    </tr>\n",
       "    <tr>\n",
       "      <th>3</th>\n",
       "      <td>Member of the G77 (developing country) group o...</td>\n",
       "      <td>http://spreadsheets.google.com/pub?key=tVI_UCw...</td>\n",
       "      <td>{'i273': ['i13', 'i14', 'i21', 'i37', 'i57', '...</td>\n",
       "      <td>CATID3</td>\n",
       "      <td>G77 and OECD countries</td>\n",
       "      <td>http://spreadsheets.google.com/pub?key=tVI_UCw...</td>\n",
       "      <td>http://spreadsheets.google.com/pub?key=tVI_UCw...</td>\n",
       "    </tr>\n",
       "    <tr>\n",
       "      <th>4</th>\n",
       "      <td>Using 4 colors to describe the geographic regi...</td>\n",
       "      <td>http://spreadsheets.google.com/spreadsheet/pub...</td>\n",
       "      <td>{'i277': ['i4', 'i7', 'i23', 'i28', 'i33', 'i3...</td>\n",
       "      <td>CATID4</td>\n",
       "      <td>Geographic regions in 4 colors</td>\n",
       "      <td>http://spreadsheets.google.com/spreadsheet/pub...</td>\n",
       "      <td>http://spreadsheets.google.com/spreadsheet/pub...</td>\n",
       "    </tr>\n",
       "    <tr>\n",
       "      <th>5</th>\n",
       "      <td>The religion of more than 50% of the religious...</td>\n",
       "      <td>http://spreadsheets.google.com/spreadsheet/pub...</td>\n",
       "      <td>{'i279': ['i5', 'i6', 'i7', 'i8', 'i9', 'i10',...</td>\n",
       "      <td>CATID5</td>\n",
       "      <td>Main religion 2008</td>\n",
       "      <td>http://spreadsheets.google.com/spreadsheet/pub...</td>\n",
       "      <td>http://spreadsheets.google.com/spreadsheet/pub...</td>\n",
       "    </tr>\n",
       "  </tbody>\n",
       "</table>\n",
       "</div>"
      ],
      "text/plain": [
       "                                                   a  \\\n",
       "0                               Regions of the world   \n",
       "1                                  How rich are you?   \n",
       "2                     Does the country have a coast?   \n",
       "3  Member of the G77 (developing country) group o...   \n",
       "4  Using 4 colors to describe the geographic regi...   \n",
       "5  The religion of more than 50% of the religious...   \n",
       "\n",
       "                                   dataCollectionUrl  \\\n",
       "0  http://spreadsheets.google.com/pub?key=phT4mwj...   \n",
       "1  http://spreadsheets.google.com/pub?key=phT4mwj...   \n",
       "2  http://spreadsheets.google.com/pub?key=rBwKBod...   \n",
       "3  http://spreadsheets.google.com/pub?key=tVI_UCw...   \n",
       "4  http://spreadsheets.google.com/spreadsheet/pub...   \n",
       "5  http://spreadsheets.google.com/spreadsheet/pub...   \n",
       "\n",
       "                                           groupings      id  \\\n",
       "0  {'i265': ['i5', 'i13', 'i31', 'i35', 'i44', 'i...  CATID0   \n",
       "1  {'i268': ['i6', 'i9', 'i12', 'i13', 'i14', 'i1...  CATID1   \n",
       "2  {'i270': ['i2', 'i3', 'i4', 'i5', 'i7', 'i8', ...  CATID2   \n",
       "3  {'i273': ['i13', 'i14', 'i21', 'i37', 'i57', '...  CATID3   \n",
       "4  {'i277': ['i4', 'i7', 'i23', 'i28', 'i33', 'i3...  CATID4   \n",
       "5  {'i279': ['i5', 'i6', 'i7', 'i8', 'i9', 'i10',...  CATID5   \n",
       "\n",
       "                                n  \\\n",
       "0              Geographic regions   \n",
       "1                   Income groups   \n",
       "2                      Landlocked   \n",
       "3          G77 and OECD countries   \n",
       "4  Geographic regions in 4 colors   \n",
       "5              Main religion 2008   \n",
       "\n",
       "                                         providerUrl  \\\n",
       "0  http://spreadsheets.google.com/pub?key=phT4mwj...   \n",
       "1  http://spreadsheets.google.com/pub?key=phT4mwj...   \n",
       "2  http://spreadsheets.google.com/pub?key=rBwKBod...   \n",
       "3  http://spreadsheets.google.com/pub?key=tVI_UCw...   \n",
       "4  http://spreadsheets.google.com/spreadsheet/pub...   \n",
       "5  http://spreadsheets.google.com/spreadsheet/pub...   \n",
       "\n",
       "                                          sourceName  \n",
       "0  http://spreadsheets.google.com/pub?key=phT4mwj...  \n",
       "1  http://spreadsheets.google.com/pub?key=phT4mwj...  \n",
       "2  http://spreadsheets.google.com/pub?key=rBwKBod...  \n",
       "3  http://spreadsheets.google.com/pub?key=tVI_UCw...  \n",
       "4  http://spreadsheets.google.com/spreadsheet/pub...  \n",
       "5  http://spreadsheets.google.com/spreadsheet/pub...  "
      ]
     },
     "execution_count": 58,
     "metadata": {},
     "output_type": "execute_result"
    }
   ],
   "source": [
    "gps"
   ]
  },
  {
   "cell_type": "code",
   "execution_count": 57,
   "metadata": {
    "collapsed": false
   },
   "outputs": [
    {
     "data": {
      "text/plain": [
       "{'i266': ['i1',\n",
       "  'i18',\n",
       "  'i23',\n",
       "  'i33',\n",
       "  'i34',\n",
       "  'i35',\n",
       "  'i40',\n",
       "  'i41',\n",
       "  'i48',\n",
       "  'i49',\n",
       "  'i68',\n",
       "  'i71',\n",
       "  'i80',\n",
       "  'i92',\n",
       "  'i93',\n",
       "  'i95',\n",
       "  'i114',\n",
       "  'i116',\n",
       "  'i120',\n",
       "  'i125',\n",
       "  'i132',\n",
       "  'i133',\n",
       "  'i136',\n",
       "  'i151',\n",
       "  'i152',\n",
       "  'i155',\n",
       "  'i162',\n",
       "  'i185',\n",
       "  'i202',\n",
       "  'i207',\n",
       "  'i222',\n",
       "  'i223',\n",
       "  'i226',\n",
       "  'i236',\n",
       "  'i257',\n",
       "  'i211'],\n",
       " 'i267': ['i3',\n",
       "  'i4',\n",
       "  'i5',\n",
       "  'i7',\n",
       "  'i10',\n",
       "  'i15',\n",
       "  'i20',\n",
       "  'i22',\n",
       "  'i27',\n",
       "  'i28',\n",
       "  'i29',\n",
       "  'i32',\n",
       "  'i44',\n",
       "  'i47',\n",
       "  'i52',\n",
       "  'i55',\n",
       "  'i61',\n",
       "  'i62',\n",
       "  'i64',\n",
       "  'i74',\n",
       "  'i79',\n",
       "  'i87',\n",
       "  'i99',\n",
       "  'i103',\n",
       "  'i104',\n",
       "  'i109',\n",
       "  'i112',\n",
       "  'i113',\n",
       "  'i123',\n",
       "  'i126',\n",
       "  'i131',\n",
       "  'i134',\n",
       "  'i135',\n",
       "  'i138',\n",
       "  'i141',\n",
       "  'i143',\n",
       "  'i148',\n",
       "  'i153',\n",
       "  'i171',\n",
       "  'i172',\n",
       "  'i175',\n",
       "  'i183',\n",
       "  'i189',\n",
       "  'i191',\n",
       "  'i198',\n",
       "  'i201',\n",
       "  'i209',\n",
       "  'i215',\n",
       "  'i224',\n",
       "  'i228',\n",
       "  'i231',\n",
       "  'i232',\n",
       "  'i233',\n",
       "  'i235',\n",
       "  'i246'],\n",
       " 'i268': ['i6',\n",
       "  'i9',\n",
       "  'i12',\n",
       "  'i13',\n",
       "  'i14',\n",
       "  'i16',\n",
       "  'i17',\n",
       "  'i19',\n",
       "  'i21',\n",
       "  'i24',\n",
       "  'i31',\n",
       "  'i37',\n",
       "  'i39',\n",
       "  'i42',\n",
       "  'i43',\n",
       "  'i54',\n",
       "  'i56',\n",
       "  'i57',\n",
       "  'i59',\n",
       "  'i67',\n",
       "  'i70',\n",
       "  'i72',\n",
       "  'i75',\n",
       "  'i76',\n",
       "  'i78',\n",
       "  'i82',\n",
       "  'i85',\n",
       "  'i86',\n",
       "  'i89',\n",
       "  'i98',\n",
       "  'i100',\n",
       "  'i105',\n",
       "  'i106',\n",
       "  'i107',\n",
       "  'i108',\n",
       "  'i110',\n",
       "  'i117',\n",
       "  'i119',\n",
       "  'i122',\n",
       "  'i127',\n",
       "  'i128',\n",
       "  'i129',\n",
       "  'i130',\n",
       "  'i137',\n",
       "  'i146',\n",
       "  'i156',\n",
       "  'i158',\n",
       "  'i159',\n",
       "  'i167',\n",
       "  'i168',\n",
       "  'i169',\n",
       "  'i178',\n",
       "  'i179',\n",
       "  'i180',\n",
       "  'i181',\n",
       "  'i184',\n",
       "  'i188',\n",
       "  'i190',\n",
       "  'i194',\n",
       "  'i196',\n",
       "  'i203',\n",
       "  'i204',\n",
       "  'i205',\n",
       "  'i212',\n",
       "  'i218',\n",
       "  'i219',\n",
       "  'i230',\n",
       "  'i234',\n",
       "  'i238',\n",
       "  'i239',\n",
       "  'i240',\n",
       "  'i241',\n",
       "  'i251',\n",
       "  'i280',\n",
       "  'i271'],\n",
       " 'i269': ['i11',\n",
       "  'i25',\n",
       "  'i26',\n",
       "  'i36',\n",
       "  'i38',\n",
       "  'i50',\n",
       "  'i53',\n",
       "  'i60',\n",
       "  'i65',\n",
       "  'i66',\n",
       "  'i81',\n",
       "  'i83',\n",
       "  'i90',\n",
       "  'i94',\n",
       "  'i97',\n",
       "  'i101',\n",
       "  'i102',\n",
       "  'i115',\n",
       "  'i118',\n",
       "  'i121',\n",
       "  'i124',\n",
       "  'i140',\n",
       "  'i144',\n",
       "  'i145',\n",
       "  'i147',\n",
       "  'i150',\n",
       "  'i161',\n",
       "  'i163',\n",
       "  'i170',\n",
       "  'i173',\n",
       "  'i174',\n",
       "  'i176',\n",
       "  'i193',\n",
       "  'i195',\n",
       "  'i197',\n",
       "  'i206',\n",
       "  'i213',\n",
       "  'i214',\n",
       "  'i217',\n",
       "  'i220',\n",
       "  'i225',\n",
       "  'i237',\n",
       "  'i243',\n",
       "  'i245',\n",
       "  'i247',\n",
       "  'i250',\n",
       "  'i254',\n",
       "  'i256']}"
      ]
     },
     "execution_count": 57,
     "metadata": {},
     "output_type": "execute_result"
    }
   ],
   "source": [
    "gps['groupings'][1]"
   ]
  },
  {
   "cell_type": "code",
   "execution_count": null,
   "metadata": {
    "collapsed": true
   },
   "outputs": [],
   "source": []
  },
  {
   "cell_type": "code",
   "execution_count": 60,
   "metadata": {
    "collapsed": true
   },
   "outputs": [],
   "source": [
    "geo = pd.read_excel('../waffle-server-importers-exporters-world-legacy-with-data/data/synonym/country_synonyms.xlsx')"
   ]
  },
  {
   "cell_type": "code",
   "execution_count": 64,
   "metadata": {
    "collapsed": false
   },
   "outputs": [
    {
     "data": {
      "text/html": [
       "<div>\n",
       "<table border=\"1\" class=\"dataframe\">\n",
       "  <thead>\n",
       "    <tr style=\"text-align: right;\">\n",
       "      <th></th>\n",
       "      <th>Use Name</th>\n",
       "      <th>Gapminder list</th>\n",
       "      <th>Alternative 1</th>\n",
       "      <th>Alternative 2</th>\n",
       "      <th>Alternative 3</th>\n",
       "      <th>Alternative 4 (CDIAC)</th>\n",
       "      <th>pandg</th>\n",
       "      <th>GOD_ID</th>\n",
       "      <th>ISO3dig_ext</th>\n",
       "      <th>ALT 5</th>\n",
       "      <th>NAME</th>\n",
       "      <th>CODE</th>\n",
       "      <th>Number</th>\n",
       "      <th>Gwid</th>\n",
       "      <th>arb1</th>\n",
       "      <th>arb2</th>\n",
       "      <th>arb3</th>\n",
       "      <th>arb4</th>\n",
       "      <th>arb5</th>\n",
       "      <th>arb6</th>\n",
       "    </tr>\n",
       "  </thead>\n",
       "  <tbody>\n",
       "    <tr>\n",
       "      <th>0</th>\n",
       "      <td>Abkhazia</td>\n",
       "      <td>Abkhazia</td>\n",
       "      <td>NaN</td>\n",
       "      <td>NaN</td>\n",
       "      <td>NaN</td>\n",
       "      <td>NaN</td>\n",
       "      <td>NaN</td>\n",
       "      <td>GE-AB</td>\n",
       "      <td>_abk</td>\n",
       "      <td>NaN</td>\n",
       "      <td>NaN</td>\n",
       "      <td>NaN</td>\n",
       "      <td>NaN</td>\n",
       "      <td>i0</td>\n",
       "      <td>NaN</td>\n",
       "      <td>NaN</td>\n",
       "      <td>NaN</td>\n",
       "      <td>NaN</td>\n",
       "      <td>NaN</td>\n",
       "      <td>NaN</td>\n",
       "    </tr>\n",
       "    <tr>\n",
       "      <th>1</th>\n",
       "      <td>Afghanistan</td>\n",
       "      <td>Afghanistan</td>\n",
       "      <td>Islamic Republic of Afghanistan</td>\n",
       "      <td>NaN</td>\n",
       "      <td>NaN</td>\n",
       "      <td>Afghanistan</td>\n",
       "      <td>AFGHANISTAN</td>\n",
       "      <td>AF</td>\n",
       "      <td>afg</td>\n",
       "      <td>NaN</td>\n",
       "      <td>AFGHANISTAN</td>\n",
       "      <td>AFG</td>\n",
       "      <td>4</td>\n",
       "      <td>i1</td>\n",
       "      <td>NaN</td>\n",
       "      <td>NaN</td>\n",
       "      <td>NaN</td>\n",
       "      <td>NaN</td>\n",
       "      <td>NaN</td>\n",
       "      <td>NaN</td>\n",
       "    </tr>\n",
       "    <tr>\n",
       "      <th>2</th>\n",
       "      <td>Akrotiri and Dhekelia</td>\n",
       "      <td>Akrotiri and Dhekelia</td>\n",
       "      <td>NaN</td>\n",
       "      <td>NaN</td>\n",
       "      <td>NaN</td>\n",
       "      <td>NaN</td>\n",
       "      <td>NaN</td>\n",
       "      <td>Akrotiri_Dhekelia</td>\n",
       "      <td>_akr</td>\n",
       "      <td>NaN</td>\n",
       "      <td>NaN</td>\n",
       "      <td>NaN</td>\n",
       "      <td>NaN</td>\n",
       "      <td>i2</td>\n",
       "      <td>NaN</td>\n",
       "      <td>NaN</td>\n",
       "      <td>NaN</td>\n",
       "      <td>NaN</td>\n",
       "      <td>NaN</td>\n",
       "      <td>NaN</td>\n",
       "    </tr>\n",
       "    <tr>\n",
       "      <th>3</th>\n",
       "      <td>Albania</td>\n",
       "      <td>Albania</td>\n",
       "      <td>NaN</td>\n",
       "      <td>NaN</td>\n",
       "      <td>NaN</td>\n",
       "      <td>Albania</td>\n",
       "      <td>ALBANIA</td>\n",
       "      <td>AL</td>\n",
       "      <td>alb</td>\n",
       "      <td>NaN</td>\n",
       "      <td>ALBANIA</td>\n",
       "      <td>ALB</td>\n",
       "      <td>8</td>\n",
       "      <td>i3</td>\n",
       "      <td>NaN</td>\n",
       "      <td>NaN</td>\n",
       "      <td>NaN</td>\n",
       "      <td>NaN</td>\n",
       "      <td>NaN</td>\n",
       "      <td>NaN</td>\n",
       "    </tr>\n",
       "    <tr>\n",
       "      <th>4</th>\n",
       "      <td>Algeria</td>\n",
       "      <td>Algeria</td>\n",
       "      <td>NaN</td>\n",
       "      <td>NaN</td>\n",
       "      <td>NaN</td>\n",
       "      <td>Algeria</td>\n",
       "      <td>ALGERIA</td>\n",
       "      <td>DZ</td>\n",
       "      <td>dza</td>\n",
       "      <td>NaN</td>\n",
       "      <td>ALGERIA</td>\n",
       "      <td>DZA</td>\n",
       "      <td>12</td>\n",
       "      <td>i4</td>\n",
       "      <td>NaN</td>\n",
       "      <td>NaN</td>\n",
       "      <td>NaN</td>\n",
       "      <td>NaN</td>\n",
       "      <td>NaN</td>\n",
       "      <td>NaN</td>\n",
       "    </tr>\n",
       "  </tbody>\n",
       "</table>\n",
       "</div>"
      ],
      "text/plain": [
       "                Use Name         Gapminder list  \\\n",
       "0               Abkhazia               Abkhazia   \n",
       "1            Afghanistan            Afghanistan   \n",
       "2  Akrotiri and Dhekelia  Akrotiri and Dhekelia   \n",
       "3                Albania                Albania   \n",
       "4                Algeria                Algeria   \n",
       "\n",
       "                     Alternative 1 Alternative 2 Alternative 3  \\\n",
       "0                              NaN           NaN           NaN   \n",
       "1  Islamic Republic of Afghanistan           NaN           NaN   \n",
       "2                              NaN           NaN           NaN   \n",
       "3                              NaN           NaN           NaN   \n",
       "4                              NaN           NaN           NaN   \n",
       "\n",
       "  Alternative 4 (CDIAC)        pandg             GOD_ID ISO3dig_ext ALT 5  \\\n",
       "0                   NaN          NaN              GE-AB        _abk   NaN   \n",
       "1           Afghanistan  AFGHANISTAN                 AF         afg   NaN   \n",
       "2                   NaN          NaN  Akrotiri_Dhekelia        _akr   NaN   \n",
       "3               Albania      ALBANIA                 AL         alb   NaN   \n",
       "4               Algeria      ALGERIA                 DZ         dza   NaN   \n",
       "\n",
       "          NAME CODE  Number Gwid arb1 arb2 arb3 arb4 arb5 arb6  \n",
       "0          NaN  NaN     NaN   i0  NaN  NaN  NaN  NaN  NaN  NaN  \n",
       "1  AFGHANISTAN  AFG       4   i1  NaN  NaN  NaN  NaN  NaN  NaN  \n",
       "2          NaN  NaN     NaN   i2  NaN  NaN  NaN  NaN  NaN  NaN  \n",
       "3      ALBANIA  ALB       8   i3  NaN  NaN  NaN  NaN  NaN  NaN  \n",
       "4      ALGERIA  DZA      12   i4  NaN  NaN  NaN  NaN  NaN  NaN  "
      ]
     },
     "execution_count": 64,
     "metadata": {},
     "output_type": "execute_result"
    }
   ],
   "source": [
    "geo.head() "
   ]
  },
  {
   "cell_type": "code",
   "execution_count": 65,
   "metadata": {
    "collapsed": true
   },
   "outputs": [],
   "source": [
    "geo_ = geo[['ISO3dig_ext', 'Gwid']]"
   ]
  },
  {
   "cell_type": "code",
   "execution_count": 66,
   "metadata": {
    "collapsed": true
   },
   "outputs": [],
   "source": [
    "geo_ = geo_.set_index('Gwid')"
   ]
  },
  {
   "cell_type": "code",
   "execution_count": 70,
   "metadata": {
    "collapsed": false
   },
   "outputs": [
    {
     "data": {
      "text/plain": [
       "'_abk'"
      ]
     },
     "execution_count": 70,
     "metadata": {},
     "output_type": "execute_result"
    }
   ],
   "source": [
    "geo_.get_value('i0', 'ISO3dig_ext')"
   ]
  },
  {
   "cell_type": "code",
   "execution_count": null,
   "metadata": {
    "collapsed": true
   },
   "outputs": [],
   "source": []
  },
  {
   "cell_type": "code",
   "execution_count": null,
   "metadata": {
    "collapsed": true
   },
   "outputs": [],
   "source": []
  },
  {
   "cell_type": "code",
   "execution_count": 110,
   "metadata": {
    "collapsed": true
   },
   "outputs": [],
   "source": [
    "def rename_col(s):\n",
    "    \n",
    "    real = idt[idt['-t-ind'] == s]['-t-name'].iloc[0]\n",
    "    cid = concepts[concepts['name'] == real]['concept_id'].iloc[0]\n",
    "#     print(real, ': ', cid)\n",
    "    \n",
    "    return cid"
   ]
  },
  {
   "cell_type": "code",
   "execution_count": 92,
   "metadata": {
    "collapsed": true
   },
   "outputs": [],
   "source": [
    "def rename_geo(s):\n",
    "    return geo_.get_value(s, 'ISO3dig_ext')"
   ]
  },
  {
   "cell_type": "code",
   "execution_count": null,
   "metadata": {
    "collapsed": true
   },
   "outputs": [],
   "source": []
  },
  {
   "cell_type": "code",
   "execution_count": null,
   "metadata": {
    "collapsed": true
   },
   "outputs": [],
   "source": []
  },
  {
   "cell_type": "code",
   "execution_count": null,
   "metadata": {
    "collapsed": true
   },
   "outputs": [],
   "source": []
  },
  {
   "cell_type": "code",
   "execution_count": null,
   "metadata": {
    "collapsed": true
   },
   "outputs": [],
   "source": []
  },
  {
   "cell_type": "code",
   "execution_count": null,
   "metadata": {
    "collapsed": true
   },
   "outputs": [],
   "source": []
  },
  {
   "cell_type": "code",
   "execution_count": 71,
   "metadata": {
    "collapsed": true
   },
   "outputs": [],
   "source": [
    "import os"
   ]
  },
  {
   "cell_type": "code",
   "execution_count": 73,
   "metadata": {
    "collapsed": true
   },
   "outputs": [],
   "source": [
    "path = '../waffle-server-importers-exporters-world-legacy-with-data/data/out/gw/indicators/'"
   ]
  },
  {
   "cell_type": "code",
   "execution_count": 74,
   "metadata": {
    "collapsed": false
   },
   "outputs": [],
   "source": [
    "fs = os.listdir(path)"
   ]
  },
  {
   "cell_type": "code",
   "execution_count": 95,
   "metadata": {
    "collapsed": false
   },
   "outputs": [],
   "source": [
    "p1 = os.path.join(path, fs[300])\n",
    "d1 = pd.read_json(p1)"
   ]
  },
  {
   "cell_type": "code",
   "execution_count": 96,
   "metadata": {
    "collapsed": false,
    "scrolled": true
   },
   "outputs": [],
   "source": [
    "d1.geo = d1.geo.apply(rename_geo)"
   ]
  },
  {
   "cell_type": "code",
   "execution_count": 97,
   "metadata": {
    "collapsed": false,
    "scrolled": true
   },
   "outputs": [
    {
     "data": {
      "text/html": [
       "<div>\n",
       "<table border=\"1\" class=\"dataframe\">\n",
       "  <thead>\n",
       "    <tr style=\"text-align: right;\">\n",
       "      <th></th>\n",
       "      <th>geo</th>\n",
       "      <th>rCyfwvThkbHVlNVw48vHybg</th>\n",
       "      <th>time</th>\n",
       "    </tr>\n",
       "  </thead>\n",
       "  <tbody>\n",
       "    <tr>\n",
       "      <th>0</th>\n",
       "      <td>afg</td>\n",
       "      <td>69.5</td>\n",
       "      <td>1991</td>\n",
       "    </tr>\n",
       "    <tr>\n",
       "      <th>1</th>\n",
       "      <td>afg</td>\n",
       "      <td>69.3</td>\n",
       "      <td>1992</td>\n",
       "    </tr>\n",
       "    <tr>\n",
       "      <th>2</th>\n",
       "      <td>afg</td>\n",
       "      <td>69.7</td>\n",
       "      <td>1993</td>\n",
       "    </tr>\n",
       "    <tr>\n",
       "      <th>3</th>\n",
       "      <td>afg</td>\n",
       "      <td>69.3</td>\n",
       "      <td>1994</td>\n",
       "    </tr>\n",
       "    <tr>\n",
       "      <th>4</th>\n",
       "      <td>afg</td>\n",
       "      <td>69.3</td>\n",
       "      <td>1995</td>\n",
       "    </tr>\n",
       "    <tr>\n",
       "      <th>5</th>\n",
       "      <td>afg</td>\n",
       "      <td>69.4</td>\n",
       "      <td>1996</td>\n",
       "    </tr>\n",
       "    <tr>\n",
       "      <th>6</th>\n",
       "      <td>afg</td>\n",
       "      <td>69.5</td>\n",
       "      <td>1997</td>\n",
       "    </tr>\n",
       "    <tr>\n",
       "      <th>7</th>\n",
       "      <td>afg</td>\n",
       "      <td>69.7</td>\n",
       "      <td>1998</td>\n",
       "    </tr>\n",
       "    <tr>\n",
       "      <th>8</th>\n",
       "      <td>afg</td>\n",
       "      <td>69.6</td>\n",
       "      <td>1999</td>\n",
       "    </tr>\n",
       "    <tr>\n",
       "      <th>9</th>\n",
       "      <td>afg</td>\n",
       "      <td>69.6</td>\n",
       "      <td>2000</td>\n",
       "    </tr>\n",
       "    <tr>\n",
       "      <th>10</th>\n",
       "      <td>afg</td>\n",
       "      <td>70.3</td>\n",
       "      <td>2001</td>\n",
       "    </tr>\n",
       "    <tr>\n",
       "      <th>11</th>\n",
       "      <td>afg</td>\n",
       "      <td>70.0</td>\n",
       "      <td>2002</td>\n",
       "    </tr>\n",
       "    <tr>\n",
       "      <th>12</th>\n",
       "      <td>afg</td>\n",
       "      <td>66.0</td>\n",
       "      <td>2003</td>\n",
       "    </tr>\n",
       "    <tr>\n",
       "      <th>13</th>\n",
       "      <td>afg</td>\n",
       "      <td>68.8</td>\n",
       "      <td>2004</td>\n",
       "    </tr>\n",
       "    <tr>\n",
       "      <th>14</th>\n",
       "      <td>afg</td>\n",
       "      <td>63.8</td>\n",
       "      <td>2005</td>\n",
       "    </tr>\n",
       "    <tr>\n",
       "      <th>15</th>\n",
       "      <td>afg</td>\n",
       "      <td>67.3</td>\n",
       "      <td>2006</td>\n",
       "    </tr>\n",
       "    <tr>\n",
       "      <th>16</th>\n",
       "      <td>afg</td>\n",
       "      <td>66.0</td>\n",
       "      <td>2007</td>\n",
       "    </tr>\n",
       "    <tr>\n",
       "      <th>17</th>\n",
       "      <td>alb</td>\n",
       "      <td>43.6</td>\n",
       "      <td>1991</td>\n",
       "    </tr>\n",
       "    <tr>\n",
       "      <th>18</th>\n",
       "      <td>alb</td>\n",
       "      <td>43.4</td>\n",
       "      <td>1992</td>\n",
       "    </tr>\n",
       "    <tr>\n",
       "      <th>19</th>\n",
       "      <td>alb</td>\n",
       "      <td>43.7</td>\n",
       "      <td>1993</td>\n",
       "    </tr>\n",
       "    <tr>\n",
       "      <th>20</th>\n",
       "      <td>alb</td>\n",
       "      <td>43.9</td>\n",
       "      <td>1994</td>\n",
       "    </tr>\n",
       "    <tr>\n",
       "      <th>21</th>\n",
       "      <td>alb</td>\n",
       "      <td>43.8</td>\n",
       "      <td>1995</td>\n",
       "    </tr>\n",
       "    <tr>\n",
       "      <th>22</th>\n",
       "      <td>alb</td>\n",
       "      <td>43.2</td>\n",
       "      <td>1996</td>\n",
       "    </tr>\n",
       "    <tr>\n",
       "      <th>23</th>\n",
       "      <td>alb</td>\n",
       "      <td>43.4</td>\n",
       "      <td>1997</td>\n",
       "    </tr>\n",
       "    <tr>\n",
       "      <th>24</th>\n",
       "      <td>alb</td>\n",
       "      <td>42.9</td>\n",
       "      <td>1998</td>\n",
       "    </tr>\n",
       "    <tr>\n",
       "      <th>25</th>\n",
       "      <td>alb</td>\n",
       "      <td>42.4</td>\n",
       "      <td>1999</td>\n",
       "    </tr>\n",
       "    <tr>\n",
       "      <th>26</th>\n",
       "      <td>alb</td>\n",
       "      <td>42.1</td>\n",
       "      <td>2000</td>\n",
       "    </tr>\n",
       "    <tr>\n",
       "      <th>27</th>\n",
       "      <td>alb</td>\n",
       "      <td>41.6</td>\n",
       "      <td>2001</td>\n",
       "    </tr>\n",
       "    <tr>\n",
       "      <th>28</th>\n",
       "      <td>alb</td>\n",
       "      <td>41.3</td>\n",
       "      <td>2002</td>\n",
       "    </tr>\n",
       "    <tr>\n",
       "      <th>29</th>\n",
       "      <td>alb</td>\n",
       "      <td>40.9</td>\n",
       "      <td>2003</td>\n",
       "    </tr>\n",
       "    <tr>\n",
       "      <th>...</th>\n",
       "      <td>...</td>\n",
       "      <td>...</td>\n",
       "      <td>...</td>\n",
       "    </tr>\n",
       "    <tr>\n",
       "      <th>2996</th>\n",
       "      <td>zmb</td>\n",
       "      <td>46.9</td>\n",
       "      <td>1995</td>\n",
       "    </tr>\n",
       "    <tr>\n",
       "      <th>2997</th>\n",
       "      <td>zmb</td>\n",
       "      <td>49.5</td>\n",
       "      <td>1996</td>\n",
       "    </tr>\n",
       "    <tr>\n",
       "      <th>2998</th>\n",
       "      <td>zmb</td>\n",
       "      <td>51.3</td>\n",
       "      <td>1997</td>\n",
       "    </tr>\n",
       "    <tr>\n",
       "      <th>2999</th>\n",
       "      <td>zmb</td>\n",
       "      <td>53.7</td>\n",
       "      <td>1998</td>\n",
       "    </tr>\n",
       "    <tr>\n",
       "      <th>3000</th>\n",
       "      <td>zmb</td>\n",
       "      <td>53.4</td>\n",
       "      <td>1999</td>\n",
       "    </tr>\n",
       "    <tr>\n",
       "      <th>3001</th>\n",
       "      <td>zmb</td>\n",
       "      <td>53.0</td>\n",
       "      <td>2000</td>\n",
       "    </tr>\n",
       "    <tr>\n",
       "      <th>3002</th>\n",
       "      <td>zmb</td>\n",
       "      <td>53.0</td>\n",
       "      <td>2001</td>\n",
       "    </tr>\n",
       "    <tr>\n",
       "      <th>3003</th>\n",
       "      <td>zmb</td>\n",
       "      <td>52.9</td>\n",
       "      <td>2002</td>\n",
       "    </tr>\n",
       "    <tr>\n",
       "      <th>3004</th>\n",
       "      <td>zmb</td>\n",
       "      <td>53.0</td>\n",
       "      <td>2003</td>\n",
       "    </tr>\n",
       "    <tr>\n",
       "      <th>3005</th>\n",
       "      <td>zmb</td>\n",
       "      <td>52.4</td>\n",
       "      <td>2004</td>\n",
       "    </tr>\n",
       "    <tr>\n",
       "      <th>3006</th>\n",
       "      <td>zmb</td>\n",
       "      <td>52.1</td>\n",
       "      <td>2005</td>\n",
       "    </tr>\n",
       "    <tr>\n",
       "      <th>3007</th>\n",
       "      <td>zmb</td>\n",
       "      <td>51.8</td>\n",
       "      <td>2006</td>\n",
       "    </tr>\n",
       "    <tr>\n",
       "      <th>3008</th>\n",
       "      <td>zmb</td>\n",
       "      <td>52.8</td>\n",
       "      <td>2007</td>\n",
       "    </tr>\n",
       "    <tr>\n",
       "      <th>3009</th>\n",
       "      <td>zwe</td>\n",
       "      <td>48.0</td>\n",
       "      <td>1991</td>\n",
       "    </tr>\n",
       "    <tr>\n",
       "      <th>3010</th>\n",
       "      <td>zwe</td>\n",
       "      <td>47.4</td>\n",
       "      <td>1992</td>\n",
       "    </tr>\n",
       "    <tr>\n",
       "      <th>3011</th>\n",
       "      <td>zwe</td>\n",
       "      <td>46.6</td>\n",
       "      <td>1993</td>\n",
       "    </tr>\n",
       "    <tr>\n",
       "      <th>3012</th>\n",
       "      <td>zwe</td>\n",
       "      <td>49.4</td>\n",
       "      <td>1994</td>\n",
       "    </tr>\n",
       "    <tr>\n",
       "      <th>3013</th>\n",
       "      <td>zwe</td>\n",
       "      <td>48.8</td>\n",
       "      <td>1995</td>\n",
       "    </tr>\n",
       "    <tr>\n",
       "      <th>3014</th>\n",
       "      <td>zwe</td>\n",
       "      <td>48.2</td>\n",
       "      <td>1996</td>\n",
       "    </tr>\n",
       "    <tr>\n",
       "      <th>3015</th>\n",
       "      <td>zwe</td>\n",
       "      <td>46.4</td>\n",
       "      <td>1997</td>\n",
       "    </tr>\n",
       "    <tr>\n",
       "      <th>3016</th>\n",
       "      <td>zwe</td>\n",
       "      <td>47.7</td>\n",
       "      <td>1998</td>\n",
       "    </tr>\n",
       "    <tr>\n",
       "      <th>3017</th>\n",
       "      <td>zwe</td>\n",
       "      <td>49.5</td>\n",
       "      <td>1999</td>\n",
       "    </tr>\n",
       "    <tr>\n",
       "      <th>3018</th>\n",
       "      <td>zwe</td>\n",
       "      <td>51.0</td>\n",
       "      <td>2000</td>\n",
       "    </tr>\n",
       "    <tr>\n",
       "      <th>3019</th>\n",
       "      <td>zwe</td>\n",
       "      <td>52.5</td>\n",
       "      <td>2001</td>\n",
       "    </tr>\n",
       "    <tr>\n",
       "      <th>3020</th>\n",
       "      <td>zwe</td>\n",
       "      <td>53.4</td>\n",
       "      <td>2002</td>\n",
       "    </tr>\n",
       "    <tr>\n",
       "      <th>3021</th>\n",
       "      <td>zwe</td>\n",
       "      <td>54.2</td>\n",
       "      <td>2003</td>\n",
       "    </tr>\n",
       "    <tr>\n",
       "      <th>3022</th>\n",
       "      <td>zwe</td>\n",
       "      <td>54.8</td>\n",
       "      <td>2004</td>\n",
       "    </tr>\n",
       "    <tr>\n",
       "      <th>3023</th>\n",
       "      <td>zwe</td>\n",
       "      <td>54.4</td>\n",
       "      <td>2005</td>\n",
       "    </tr>\n",
       "    <tr>\n",
       "      <th>3024</th>\n",
       "      <td>zwe</td>\n",
       "      <td>54.2</td>\n",
       "      <td>2006</td>\n",
       "    </tr>\n",
       "    <tr>\n",
       "      <th>3025</th>\n",
       "      <td>zwe</td>\n",
       "      <td>55.5</td>\n",
       "      <td>2007</td>\n",
       "    </tr>\n",
       "  </tbody>\n",
       "</table>\n",
       "<p>3026 rows × 3 columns</p>\n",
       "</div>"
      ],
      "text/plain": [
       "      geo  rCyfwvThkbHVlNVw48vHybg  time\n",
       "0     afg                     69.5  1991\n",
       "1     afg                     69.3  1992\n",
       "2     afg                     69.7  1993\n",
       "3     afg                     69.3  1994\n",
       "4     afg                     69.3  1995\n",
       "5     afg                     69.4  1996\n",
       "6     afg                     69.5  1997\n",
       "7     afg                     69.7  1998\n",
       "8     afg                     69.6  1999\n",
       "9     afg                     69.6  2000\n",
       "10    afg                     70.3  2001\n",
       "11    afg                     70.0  2002\n",
       "12    afg                     66.0  2003\n",
       "13    afg                     68.8  2004\n",
       "14    afg                     63.8  2005\n",
       "15    afg                     67.3  2006\n",
       "16    afg                     66.0  2007\n",
       "17    alb                     43.6  1991\n",
       "18    alb                     43.4  1992\n",
       "19    alb                     43.7  1993\n",
       "20    alb                     43.9  1994\n",
       "21    alb                     43.8  1995\n",
       "22    alb                     43.2  1996\n",
       "23    alb                     43.4  1997\n",
       "24    alb                     42.9  1998\n",
       "25    alb                     42.4  1999\n",
       "26    alb                     42.1  2000\n",
       "27    alb                     41.6  2001\n",
       "28    alb                     41.3  2002\n",
       "29    alb                     40.9  2003\n",
       "...   ...                      ...   ...\n",
       "2996  zmb                     46.9  1995\n",
       "2997  zmb                     49.5  1996\n",
       "2998  zmb                     51.3  1997\n",
       "2999  zmb                     53.7  1998\n",
       "3000  zmb                     53.4  1999\n",
       "3001  zmb                     53.0  2000\n",
       "3002  zmb                     53.0  2001\n",
       "3003  zmb                     52.9  2002\n",
       "3004  zmb                     53.0  2003\n",
       "3005  zmb                     52.4  2004\n",
       "3006  zmb                     52.1  2005\n",
       "3007  zmb                     51.8  2006\n",
       "3008  zmb                     52.8  2007\n",
       "3009  zwe                     48.0  1991\n",
       "3010  zwe                     47.4  1992\n",
       "3011  zwe                     46.6  1993\n",
       "3012  zwe                     49.4  1994\n",
       "3013  zwe                     48.8  1995\n",
       "3014  zwe                     48.2  1996\n",
       "3015  zwe                     46.4  1997\n",
       "3016  zwe                     47.7  1998\n",
       "3017  zwe                     49.5  1999\n",
       "3018  zwe                     51.0  2000\n",
       "3019  zwe                     52.5  2001\n",
       "3020  zwe                     53.4  2002\n",
       "3021  zwe                     54.2  2003\n",
       "3022  zwe                     54.8  2004\n",
       "3023  zwe                     54.4  2005\n",
       "3024  zwe                     54.2  2006\n",
       "3025  zwe                     55.5  2007\n",
       "\n",
       "[3026 rows x 3 columns]"
      ]
     },
     "execution_count": 97,
     "metadata": {},
     "output_type": "execute_result"
    }
   ],
   "source": [
    "d1"
   ]
  },
  {
   "cell_type": "code",
   "execution_count": 85,
   "metadata": {
    "collapsed": false
   },
   "outputs": [
    {
     "data": {
      "text/plain": [
       "'Murdered children 0-14 (per 100,000 people)'"
      ]
     },
     "execution_count": 85,
     "metadata": {},
     "output_type": "execute_result"
    }
   ],
   "source": [
    "idt[idt['-t-ind'] == '0AgogXXPMARyldC1rcTI5OU50Mnc1djdkNXpnWUFrZmc']['-t-name'].iloc[0]"
   ]
  },
  {
   "cell_type": "code",
   "execution_count": 115,
   "metadata": {
    "collapsed": false
   },
   "outputs": [
    {
     "data": {
      "text/plain": [
       "'males_aged_15_24_employment_rate_percent'"
      ]
     },
     "execution_count": 115,
     "metadata": {},
     "output_type": "execute_result"
    }
   ],
   "source": [
    "rename_col('rCyfwvThkbHVlNVw48vHybg')"
   ]
  },
  {
   "cell_type": "code",
   "execution_count": null,
   "metadata": {
    "collapsed": true
   },
   "outputs": [],
   "source": [
    "# now try to make data points"
   ]
  },
  {
   "cell_type": "code",
   "execution_count": 114,
   "metadata": {
    "collapsed": false
   },
   "outputs": [
    {
     "name": "stdout",
     "output_type": "stream",
     "text": [
      "rj8WsGGNXkijP447qnY5RLg : ———————————————————————\n",
      "rMF2H57_Vd8TdobvtNhYuwg : ———————————————————————\n",
      "tAwlNo30o6vVgDUk0EmDolQ : ———————————————————————\n",
      "tDkfgIt5oQ_ZJQ7IBmUvsUg : ———————————————————————\n",
      "tdKPTXS1U5Jn3qAQICk4-Vw : ———————————————————————\n",
      "teiT4rPfnWcd5mCldIm4Zhw : ———————————————————————\n",
      "tFc2tyrcWLcUyGhq6mTAbDg : ———————————————————————\n",
      "tFrUv6vnhhO4Jr1czdG_p0Q : ———————————————————————\n",
      "tIL264Nlw0AlIWlXuCWWNmQ : ———————————————————————\n",
      "tJwP0x54AZ-X-bGL-RebrpA : ———————————————————————\n",
      "tLiJLI_rimqrdQRWdamPPRQ : ———————————————————————\n",
      "tnDimTzGwU_BbmtOMHOUFFQ : ———————————————————————\n",
      "ts7TQEIg0amXovCDzQxV5EA : ———————————————————————\n",
      "tYvQLeBTuoKsyofvwGqS-9w : ———————————————————————\n"
     ]
    }
   ],
   "source": [
    "for f in fs[1:]:\n",
    "    p = os.path.join(path, f)\n",
    "    \n",
    "    col = f[:-5]\n",
    "    col_r = rename_col(col)\n",
    "  \n",
    "    d = pd.read_json(p)\n",
    "\n",
    "    if 'geo' in d.columns:\n",
    "        d['geo'] = d['geo'].apply(rename_geo)\n",
    "        d = d.rename(columns={col:col_r}) #ok?\n",
    "        d.to_csv('./output/datapoints/ddf--datapoints--'+col_r+'--by--geo--time.csv', index=False)\n",
    "    else:\n",
    "        print(col, ':', col_r)\n",
    "    \n",
    "    "
   ]
  },
  {
   "cell_type": "code",
   "execution_count": 102,
   "metadata": {
    "collapsed": false
   },
   "outputs": [
    {
     "data": {
      "text/plain": [
       "'0AgogXXPMARyldC1rcTI5OU50Mnc1djdkNXpnWUFrZmc'"
      ]
     },
     "execution_count": 102,
     "metadata": {},
     "output_type": "execute_result"
    }
   ],
   "source": [
    "fs[1][:-5]"
   ]
  },
  {
   "cell_type": "code",
   "execution_count": 106,
   "metadata": {
    "collapsed": false
   },
   "outputs": [
    {
     "data": {
      "text/plain": [
       "542"
      ]
     },
     "execution_count": 106,
     "metadata": {},
     "output_type": "execute_result"
    }
   ],
   "source": [
    "len(idt)"
   ]
  },
  {
   "cell_type": "code",
   "execution_count": 107,
   "metadata": {
    "collapsed": false
   },
   "outputs": [
    {
     "data": {
      "text/plain": [
       "544"
      ]
     },
     "execution_count": 107,
     "metadata": {},
     "output_type": "execute_result"
    }
   ],
   "source": [
    "len(concepts)"
   ]
  },
  {
   "cell_type": "code",
   "execution_count": null,
   "metadata": {
    "collapsed": true
   },
   "outputs": [],
   "source": []
  }
 ],
 "metadata": {
  "kernelspec": {
   "display_name": "Python 3",
   "language": "python",
   "name": "python3"
  },
  "language_info": {
   "codemirror_mode": {
    "name": "ipython",
    "version": 3
   },
   "file_extension": ".py",
   "mimetype": "text/x-python",
   "name": "python",
   "nbconvert_exporter": "python",
   "pygments_lexer": "ipython3",
   "version": "3.5.1"
  }
 },
 "nbformat": 4,
 "nbformat_minor": 0
}
